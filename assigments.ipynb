{
 "cells": [
  {
   "cell_type": "code",
   "execution_count": 33,
   "id": "e93893cf-20f1-4638-92c1-b05c8db13aba",
   "metadata": {},
   "outputs": [],
   "source": [
    "import pandas as pd\n",
    "pd.set_option(\"display.max_colwidth\", None)"
   ]
  },
  {
   "cell_type": "code",
   "execution_count": 35,
   "id": "b5021e09-badd-421e-b75e-bccc692dde1f",
   "metadata": {},
   "outputs": [],
   "source": [
    "data_csv= pd.read_csv('./Data/childrens_books.csv')"
   ]
  },
  {
   "cell_type": "code",
   "execution_count": 37,
   "id": "70c5e764-5850-48ff-b5c9-c2bb5ac24b8c",
   "metadata": {},
   "outputs": [
    {
     "data": {
      "text/html": [
       "<div>\n",
       "<style scoped>\n",
       "    .dataframe tbody tr th:only-of-type {\n",
       "        vertical-align: middle;\n",
       "    }\n",
       "\n",
       "    .dataframe tbody tr th {\n",
       "        vertical-align: top;\n",
       "    }\n",
       "\n",
       "    .dataframe thead th {\n",
       "        text-align: right;\n",
       "    }\n",
       "</style>\n",
       "<table border=\"1\" class=\"dataframe\">\n",
       "  <thead>\n",
       "    <tr style=\"text-align: right;\">\n",
       "      <th></th>\n",
       "      <th>Ranking</th>\n",
       "      <th>Title</th>\n",
       "      <th>Author</th>\n",
       "      <th>Year</th>\n",
       "      <th>Rating</th>\n",
       "      <th>Description</th>\n",
       "    </tr>\n",
       "  </thead>\n",
       "  <tbody>\n",
       "    <tr>\n",
       "      <th>0</th>\n",
       "      <td>1</td>\n",
       "      <td>Where the Wild Things Are</td>\n",
       "      <td>Maurice Sendak</td>\n",
       "      <td>1963</td>\n",
       "      <td>4.25</td>\n",
       "      <td>Where the Wild Things Are follows Max, a young boy who, after being sent to his room for misbehaving, imagines sailing to an island filled with wild creatures. As their king, Max tames the beasts and eventually returns home to find his supper waiting for him. This iconic book explores themes of imagination, adventure, and the complex emotions of childhood, all captured through Sendak's whimsical illustrations and story.</td>\n",
       "    </tr>\n",
       "    <tr>\n",
       "      <th>1</th>\n",
       "      <td>2</td>\n",
       "      <td>The Very Hungry Caterpillar</td>\n",
       "      <td>Eric Carle</td>\n",
       "      <td>1969</td>\n",
       "      <td>4.34</td>\n",
       "      <td>The Very Hungry Caterpillar tells the story of a caterpillar who eats through a variety of foods before eventually becoming a butterfly. Eric Carle’s use of colorful collage illustrations and rhythmic text has made this book a beloved classic for young readers. The simple, engaging story introduces children to days of the week, counting, and the concept of metamorphosis. It’s a staple in early childhood education.</td>\n",
       "    </tr>\n",
       "    <tr>\n",
       "      <th>2</th>\n",
       "      <td>3</td>\n",
       "      <td>The Giving Tree</td>\n",
       "      <td>Shel Silverstein</td>\n",
       "      <td>1964</td>\n",
       "      <td>4.38</td>\n",
       "      <td>The Giving Tree is a touching and bittersweet story about a tree that gives everything it has to a boy over the course of his life. As the boy grows up, he takes more from the tree, and the tree continues to give, even when it has little left. Silverstein’s minimalist text and illustrations convey deep themes of unconditional love, selflessness, and the passage of time. It has sparked much discussion about relationships and sacrifice.</td>\n",
       "    </tr>\n",
       "    <tr>\n",
       "      <th>3</th>\n",
       "      <td>4</td>\n",
       "      <td>Green Eggs and Ham</td>\n",
       "      <td>Dr. Seuss</td>\n",
       "      <td>1960</td>\n",
       "      <td>4.31</td>\n",
       "      <td>In Green Eggs and Ham, Sam-I-Am tries to convince a reluctant character to try a dish of green eggs and ham, despite his resistance. Through repetition and rhyme, Dr. Seuss’s classic story about being open to new experiences encourages children to be adventurous and try things outside their comfort zone. The playful illustrations and humorous dialogue make it a fun and educational read for young readers.</td>\n",
       "    </tr>\n",
       "    <tr>\n",
       "      <th>4</th>\n",
       "      <td>5</td>\n",
       "      <td>Goodnight Moon</td>\n",
       "      <td>Margaret Wise Brown</td>\n",
       "      <td>1947</td>\n",
       "      <td>4.31</td>\n",
       "      <td>Goodnight Moon is a gentle, rhythmic bedtime story where a little bunny says goodnight to everything in his room, from the moon to the \"quiet old lady whispering hush.\" Its repetitive structure and comforting tone make it ideal for young children. The simple illustrations by Clement Hurd complement the soothing nature of the story, making it a beloved classic for sleep-time reading.</td>\n",
       "    </tr>\n",
       "  </tbody>\n",
       "</table>\n",
       "</div>"
      ],
      "text/plain": [
       "   Ranking                        Title               Author  Year Rating  \\\n",
       "0        1    Where the Wild Things Are       Maurice Sendak  1963   4.25   \n",
       "1        2  The Very Hungry Caterpillar           Eric Carle  1969   4.34   \n",
       "2        3              The Giving Tree     Shel Silverstein  1964   4.38   \n",
       "3        4           Green Eggs and Ham            Dr. Seuss  1960   4.31   \n",
       "4        5               Goodnight Moon  Margaret Wise Brown  1947   4.31   \n",
       "\n",
       "                                                                                                                                                                                                                                                                                                                                                                                                                                              Description  \n",
       "0                 Where the Wild Things Are follows Max, a young boy who, after being sent to his room for misbehaving, imagines sailing to an island filled with wild creatures. As their king, Max tames the beasts and eventually returns home to find his supper waiting for him. This iconic book explores themes of imagination, adventure, and the complex emotions of childhood, all captured through Sendak's whimsical illustrations and story.  \n",
       "1                       The Very Hungry Caterpillar tells the story of a caterpillar who eats through a variety of foods before eventually becoming a butterfly. Eric Carle’s use of colorful collage illustrations and rhythmic text has made this book a beloved classic for young readers. The simple, engaging story introduces children to days of the week, counting, and the concept of metamorphosis. It’s a staple in early childhood education.  \n",
       "2  The Giving Tree is a touching and bittersweet story about a tree that gives everything it has to a boy over the course of his life. As the boy grows up, he takes more from the tree, and the tree continues to give, even when it has little left. Silverstein’s minimalist text and illustrations convey deep themes of unconditional love, selflessness, and the passage of time. It has sparked much discussion about relationships and sacrifice.  \n",
       "3                                 In Green Eggs and Ham, Sam-I-Am tries to convince a reluctant character to try a dish of green eggs and ham, despite his resistance. Through repetition and rhyme, Dr. Seuss’s classic story about being open to new experiences encourages children to be adventurous and try things outside their comfort zone. The playful illustrations and humorous dialogue make it a fun and educational read for young readers.  \n",
       "4                                                       Goodnight Moon is a gentle, rhythmic bedtime story where a little bunny says goodnight to everything in his room, from the moon to the \"quiet old lady whispering hush.\" Its repetitive structure and comforting tone make it ideal for young children. The simple illustrations by Clement Hurd complement the soothing nature of the story, making it a beloved classic for sleep-time reading.  "
      ]
     },
     "execution_count": 37,
     "metadata": {},
     "output_type": "execute_result"
    }
   ],
   "source": [
    "data_csv.head()"
   ]
  },
  {
   "cell_type": "code",
   "execution_count": 65,
   "id": "cb42089b-ffc7-47d7-98dc-81c3f4503044",
   "metadata": {},
   "outputs": [],
   "source": [
    "def lower_text(series):\n",
    "    output=series.str.lower()\n",
    "    output= output.str.replace(\"\\xa0\", ' ')\n",
    "    output=output.str.replace(r'[^A-Za-z0-9\\s]', ' ', regex=True)\n",
    "    return output"
   ]
  },
  {
   "cell_type": "code",
   "execution_count": 67,
   "id": "f4c84b2e-fd5d-4c32-87d1-1d59d9d28db5",
   "metadata": {},
   "outputs": [],
   "source": [
    "data_clean=lower_text(data_csv.Description)"
   ]
  },
  {
   "cell_type": "code",
   "execution_count": 69,
   "id": "8edbcdec-ef37-483f-9304-d6f8955c68e1",
   "metadata": {},
   "outputs": [
    {
     "data": {
      "text/plain": [
       "0                         where the wild things are follows max  a young boy who  after being sent to his room for misbehaving  imagines sailing to an island filled with wild creatures  as their king  max tames the beasts and eventually returns home to find his supper waiting for him  this iconic book explores themes of imagination  adventure  and the complex emotions of childhood  all captured through sendak s whimsical illustrations and story \n",
       "1                               the very hungry caterpillar tells the story of a caterpillar who eats through a variety of foods before eventually becoming a butterfly  eric carle s use of colorful collage illustrations and rhythmic text has made this book a beloved classic for young readers  the simple  engaging story introduces children to days of the week  counting  and the concept of metamorphosis  it s a staple in early childhood education \n",
       "2          the giving tree is a touching and bittersweet story about a tree that gives everything it has to a boy over the course of his life  as the boy grows up  he takes more from the tree  and the tree continues to give  even when it has little left  silverstein s minimalist text and illustrations convey deep themes of unconditional love  selflessness  and the passage of time  it has sparked much discussion about relationships and sacrifice \n",
       "3                                         in green eggs and ham  sam i am tries to convince a reluctant character to try a dish of green eggs and ham  despite his resistance  through repetition and rhyme  dr  seuss s classic story about being open to new experiences encourages children to be adventurous and try things outside their comfort zone  the playful illustrations and humorous dialogue make it a fun and educational read for young readers \n",
       "4                                                               goodnight moon is a gentle  rhythmic bedtime story where a little bunny says goodnight to everything in his room  from the moon to the  quiet old lady whispering hush   its repetitive structure and comforting tone make it ideal for young children  the simple illustrations by clement hurd complement the soothing nature of the story  making it a beloved classic for sleep time reading \n",
       "                                                                                                                                                                                                                                 ...                                                                                                                                                                                                                             \n",
       "95                                                stone soup is a classic folktale retold by jon j  muth  in which three soldiers arrive in a village  claiming they can make soup from stones  the villagers  initially hesitant  eventually contribute ingredients to the pot  and together they create a delicious meal  this story is a heartwarming lesson about sharing  community  and cooperation  enhanced by muth s beautiful watercolor illustrations \n",
       "96                             a light in the attic is a collection of quirky poems and illustrations by shel silverstein  exploring a wide range of topics with wit  humor  and imagination  the poems are funny  thoughtful  and sometimes absurd  but they all carry a sense of wonder and creativity  silverstein s distinctive voice and whimsical illustrations make this book a timeless collection that continues to entertain children and adults alike \n",
       "97                             harry potter and the prisoner of azkaban is the third book in the harry potter series  where harry returns to hogwarts for his third year and uncovers secrets about his past  with the arrival of the mysterious sirius black  harry must navigate dark truths and face his fears  this thrilling installment explores themes of loyalty  friendship  and identity  marking a turning point in the magical world of harry potter \n",
       "98                                 harry potter and the chamber of secrets is the second book in the harry potter series  where harry returns to hogwarts for his second year and uncovers a hidden chamber within the school  as mysterious events unfold  harry and his friends ron and hermione uncover dark secrets about the school s past  themes of courage  friendship  and standing up for what s right are explored in this gripping magical adventure \n",
       "99    the three billy goats gruff is a retelling of the classic norwegian fairy tale about three goats who must outwit a greedy troll to cross a bridge and reach greener pastures  the goats each come up with a clever strategy to trick the troll  teaching children lessons about teamwork  bravery  and cleverness  galdone s illustrations and simple  rhythmic text bring the tale to life in a way that is accessible and entertaining for young readers \n",
       "Name: Description, Length: 100, dtype: object"
      ]
     },
     "execution_count": 69,
     "metadata": {},
     "output_type": "execute_result"
    }
   ],
   "source": [
    "data_clean"
   ]
  },
  {
   "cell_type": "code",
   "execution_count": 71,
   "id": "beb77b23-8bca-4ea6-a239-5404841a4a37",
   "metadata": {},
   "outputs": [],
   "source": [
    "data_csv['Description_clean']= data_clean"
   ]
  },
  {
   "cell_type": "code",
   "execution_count": 73,
   "id": "5e4b8f6a-9045-4b52-93a9-976bc8d6dd58",
   "metadata": {},
   "outputs": [
    {
     "data": {
      "text/html": [
       "<div>\n",
       "<style scoped>\n",
       "    .dataframe tbody tr th:only-of-type {\n",
       "        vertical-align: middle;\n",
       "    }\n",
       "\n",
       "    .dataframe tbody tr th {\n",
       "        vertical-align: top;\n",
       "    }\n",
       "\n",
       "    .dataframe thead th {\n",
       "        text-align: right;\n",
       "    }\n",
       "</style>\n",
       "<table border=\"1\" class=\"dataframe\">\n",
       "  <thead>\n",
       "    <tr style=\"text-align: right;\">\n",
       "      <th></th>\n",
       "      <th>Ranking</th>\n",
       "      <th>Title</th>\n",
       "      <th>Author</th>\n",
       "      <th>Year</th>\n",
       "      <th>Rating</th>\n",
       "      <th>Description</th>\n",
       "      <th>Description_clean</th>\n",
       "    </tr>\n",
       "  </thead>\n",
       "  <tbody>\n",
       "    <tr>\n",
       "      <th>0</th>\n",
       "      <td>1</td>\n",
       "      <td>Where the Wild Things Are</td>\n",
       "      <td>Maurice Sendak</td>\n",
       "      <td>1963</td>\n",
       "      <td>4.25</td>\n",
       "      <td>Where the Wild Things Are follows Max, a young boy who, after being sent to his room for misbehaving, imagines sailing to an island filled with wild creatures. As their king, Max tames the beasts and eventually returns home to find his supper waiting for him. This iconic book explores themes of imagination, adventure, and the complex emotions of childhood, all captured through Sendak's whimsical illustrations and story.</td>\n",
       "      <td>where the wild things are follows max  a young boy who  after being sent to his room for misbehaving  imagines sailing to an island filled with wild creatures  as their king  max tames the beasts and eventually returns home to find his supper waiting for him  this iconic book explores themes of imagination  adventure  and the complex emotions of childhood  all captured through sendak s whimsical illustrations and story</td>\n",
       "    </tr>\n",
       "    <tr>\n",
       "      <th>1</th>\n",
       "      <td>2</td>\n",
       "      <td>The Very Hungry Caterpillar</td>\n",
       "      <td>Eric Carle</td>\n",
       "      <td>1969</td>\n",
       "      <td>4.34</td>\n",
       "      <td>The Very Hungry Caterpillar tells the story of a caterpillar who eats through a variety of foods before eventually becoming a butterfly. Eric Carle’s use of colorful collage illustrations and rhythmic text has made this book a beloved classic for young readers. The simple, engaging story introduces children to days of the week, counting, and the concept of metamorphosis. It’s a staple in early childhood education.</td>\n",
       "      <td>the very hungry caterpillar tells the story of a caterpillar who eats through a variety of foods before eventually becoming a butterfly  eric carle s use of colorful collage illustrations and rhythmic text has made this book a beloved classic for young readers  the simple  engaging story introduces children to days of the week  counting  and the concept of metamorphosis  it s a staple in early childhood education</td>\n",
       "    </tr>\n",
       "    <tr>\n",
       "      <th>2</th>\n",
       "      <td>3</td>\n",
       "      <td>The Giving Tree</td>\n",
       "      <td>Shel Silverstein</td>\n",
       "      <td>1964</td>\n",
       "      <td>4.38</td>\n",
       "      <td>The Giving Tree is a touching and bittersweet story about a tree that gives everything it has to a boy over the course of his life. As the boy grows up, he takes more from the tree, and the tree continues to give, even when it has little left. Silverstein’s minimalist text and illustrations convey deep themes of unconditional love, selflessness, and the passage of time. It has sparked much discussion about relationships and sacrifice.</td>\n",
       "      <td>the giving tree is a touching and bittersweet story about a tree that gives everything it has to a boy over the course of his life  as the boy grows up  he takes more from the tree  and the tree continues to give  even when it has little left  silverstein s minimalist text and illustrations convey deep themes of unconditional love  selflessness  and the passage of time  it has sparked much discussion about relationships and sacrifice</td>\n",
       "    </tr>\n",
       "    <tr>\n",
       "      <th>3</th>\n",
       "      <td>4</td>\n",
       "      <td>Green Eggs and Ham</td>\n",
       "      <td>Dr. Seuss</td>\n",
       "      <td>1960</td>\n",
       "      <td>4.31</td>\n",
       "      <td>In Green Eggs and Ham, Sam-I-Am tries to convince a reluctant character to try a dish of green eggs and ham, despite his resistance. Through repetition and rhyme, Dr. Seuss’s classic story about being open to new experiences encourages children to be adventurous and try things outside their comfort zone. The playful illustrations and humorous dialogue make it a fun and educational read for young readers.</td>\n",
       "      <td>in green eggs and ham  sam i am tries to convince a reluctant character to try a dish of green eggs and ham  despite his resistance  through repetition and rhyme  dr  seuss s classic story about being open to new experiences encourages children to be adventurous and try things outside their comfort zone  the playful illustrations and humorous dialogue make it a fun and educational read for young readers</td>\n",
       "    </tr>\n",
       "    <tr>\n",
       "      <th>4</th>\n",
       "      <td>5</td>\n",
       "      <td>Goodnight Moon</td>\n",
       "      <td>Margaret Wise Brown</td>\n",
       "      <td>1947</td>\n",
       "      <td>4.31</td>\n",
       "      <td>Goodnight Moon is a gentle, rhythmic bedtime story where a little bunny says goodnight to everything in his room, from the moon to the \"quiet old lady whispering hush.\" Its repetitive structure and comforting tone make it ideal for young children. The simple illustrations by Clement Hurd complement the soothing nature of the story, making it a beloved classic for sleep-time reading.</td>\n",
       "      <td>goodnight moon is a gentle  rhythmic bedtime story where a little bunny says goodnight to everything in his room  from the moon to the  quiet old lady whispering hush   its repetitive structure and comforting tone make it ideal for young children  the simple illustrations by clement hurd complement the soothing nature of the story  making it a beloved classic for sleep time reading</td>\n",
       "    </tr>\n",
       "  </tbody>\n",
       "</table>\n",
       "</div>"
      ],
      "text/plain": [
       "   Ranking                        Title               Author  Year Rating  \\\n",
       "0        1    Where the Wild Things Are       Maurice Sendak  1963   4.25   \n",
       "1        2  The Very Hungry Caterpillar           Eric Carle  1969   4.34   \n",
       "2        3              The Giving Tree     Shel Silverstein  1964   4.38   \n",
       "3        4           Green Eggs and Ham            Dr. Seuss  1960   4.31   \n",
       "4        5               Goodnight Moon  Margaret Wise Brown  1947   4.31   \n",
       "\n",
       "                                                                                                                                                                                                                                                                                                                                                                                                                                              Description  \\\n",
       "0                 Where the Wild Things Are follows Max, a young boy who, after being sent to his room for misbehaving, imagines sailing to an island filled with wild creatures. As their king, Max tames the beasts and eventually returns home to find his supper waiting for him. This iconic book explores themes of imagination, adventure, and the complex emotions of childhood, all captured through Sendak's whimsical illustrations and story.   \n",
       "1                       The Very Hungry Caterpillar tells the story of a caterpillar who eats through a variety of foods before eventually becoming a butterfly. Eric Carle’s use of colorful collage illustrations and rhythmic text has made this book a beloved classic for young readers. The simple, engaging story introduces children to days of the week, counting, and the concept of metamorphosis. It’s a staple in early childhood education.   \n",
       "2  The Giving Tree is a touching and bittersweet story about a tree that gives everything it has to a boy over the course of his life. As the boy grows up, he takes more from the tree, and the tree continues to give, even when it has little left. Silverstein’s minimalist text and illustrations convey deep themes of unconditional love, selflessness, and the passage of time. It has sparked much discussion about relationships and sacrifice.   \n",
       "3                                 In Green Eggs and Ham, Sam-I-Am tries to convince a reluctant character to try a dish of green eggs and ham, despite his resistance. Through repetition and rhyme, Dr. Seuss’s classic story about being open to new experiences encourages children to be adventurous and try things outside their comfort zone. The playful illustrations and humorous dialogue make it a fun and educational read for young readers.   \n",
       "4                                                       Goodnight Moon is a gentle, rhythmic bedtime story where a little bunny says goodnight to everything in his room, from the moon to the \"quiet old lady whispering hush.\" Its repetitive structure and comforting tone make it ideal for young children. The simple illustrations by Clement Hurd complement the soothing nature of the story, making it a beloved classic for sleep-time reading.   \n",
       "\n",
       "                                                                                                                                                                                                                                                                                                                                                                                                                                        Description_clean  \n",
       "0                 where the wild things are follows max  a young boy who  after being sent to his room for misbehaving  imagines sailing to an island filled with wild creatures  as their king  max tames the beasts and eventually returns home to find his supper waiting for him  this iconic book explores themes of imagination  adventure  and the complex emotions of childhood  all captured through sendak s whimsical illustrations and story   \n",
       "1                       the very hungry caterpillar tells the story of a caterpillar who eats through a variety of foods before eventually becoming a butterfly  eric carle s use of colorful collage illustrations and rhythmic text has made this book a beloved classic for young readers  the simple  engaging story introduces children to days of the week  counting  and the concept of metamorphosis  it s a staple in early childhood education   \n",
       "2  the giving tree is a touching and bittersweet story about a tree that gives everything it has to a boy over the course of his life  as the boy grows up  he takes more from the tree  and the tree continues to give  even when it has little left  silverstein s minimalist text and illustrations convey deep themes of unconditional love  selflessness  and the passage of time  it has sparked much discussion about relationships and sacrifice   \n",
       "3                                 in green eggs and ham  sam i am tries to convince a reluctant character to try a dish of green eggs and ham  despite his resistance  through repetition and rhyme  dr  seuss s classic story about being open to new experiences encourages children to be adventurous and try things outside their comfort zone  the playful illustrations and humorous dialogue make it a fun and educational read for young readers   \n",
       "4                                                       goodnight moon is a gentle  rhythmic bedtime story where a little bunny says goodnight to everything in his room  from the moon to the  quiet old lady whispering hush   its repetitive structure and comforting tone make it ideal for young children  the simple illustrations by clement hurd complement the soothing nature of the story  making it a beloved classic for sleep time reading   "
      ]
     },
     "execution_count": 73,
     "metadata": {},
     "output_type": "execute_result"
    }
   ],
   "source": [
    "data_csv.head()"
   ]
  },
  {
   "cell_type": "code",
   "execution_count": 61,
   "id": "2f49a875-b523-43a7-b837-ad062f8f6082",
   "metadata": {},
   "outputs": [
    {
     "data": {
      "text/plain": [
       "\"Where the Wild Things Are\\xa0follows Max, a young boy who, after being sent to his room for misbehaving, imagines sailing to an island filled with wild creatures. As their king, Max tames the beasts and eventually returns home to find his supper waiting for him. This iconic book explores themes of imagination, adventure, and the complex emotions of childhood, all captured through Sendak's whimsical illustrations and story.\""
      ]
     },
     "execution_count": 61,
     "metadata": {},
     "output_type": "execute_result"
    }
   ],
   "source": [
    "data_csv.Description.iloc[0]"
   ]
  },
  {
   "cell_type": "code",
   "execution_count": 63,
   "id": "e840da77-3173-4043-87f3-a273e9ca5d0f",
   "metadata": {},
   "outputs": [
    {
     "data": {
      "text/plain": [
       "'where the wild things are follows max a young boy who after being sent to his room for misbehaving imagines sailing to an island filled with wild creatures as their king max tames the beasts and eventually returns home to find his supper waiting for him this iconic book explores themes of imagination adventure and the complex emotions of childhood all captured through sendaks whimsical illustrations and story'"
      ]
     },
     "execution_count": 63,
     "metadata": {},
     "output_type": "execute_result"
    }
   ],
   "source": [
    "data_csv.Description_clean.iloc[0]"
   ]
  },
  {
   "cell_type": "code",
   "execution_count": null,
   "id": "a7f8f8d0-20c7-49f5-b1d5-0b8d248cdd9f",
   "metadata": {},
   "outputs": [],
   "source": []
  }
 ],
 "metadata": {
  "kernelspec": {
   "display_name": "Python [conda env:base] *",
   "language": "python",
   "name": "conda-base-py"
  },
  "language_info": {
   "codemirror_mode": {
    "name": "ipython",
    "version": 3
   },
   "file_extension": ".py",
   "mimetype": "text/x-python",
   "name": "python",
   "nbconvert_exporter": "python",
   "pygments_lexer": "ipython3",
   "version": "3.12.3"
  }
 },
 "nbformat": 4,
 "nbformat_minor": 5
}
