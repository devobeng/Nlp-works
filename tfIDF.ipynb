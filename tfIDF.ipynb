{
 "cells": [
  {
   "cell_type": "code",
   "execution_count": 2,
   "id": "af97c9ae-3516-4878-bed9-da7cb302c928",
   "metadata": {},
   "outputs": [],
   "source": [
    "import pandas as pd\n",
    "from sklearn.feature_extraction.text import TfidfVectorizer\n"
   ]
  },
  {
   "cell_type": "code",
   "execution_count": 4,
   "id": "f7234dba-cd7e-44ea-b2c0-df42e138198e",
   "metadata": {},
   "outputs": [],
   "source": [
    "series=pd.read_pickle('./text_clean.pkl')"
   ]
  },
  {
   "cell_type": "code",
   "execution_count": 6,
   "id": "d9338ef2-d2e3-4132-9ead-85ccb1687fcf",
   "metadata": {},
   "outputs": [
    {
     "data": {
      "text/plain": [
       "0               life give lemon lemonade\n",
       "1                 buy lemon maven market\n",
       "2            dozen lemon gallon lemonade\n",
       "3    lemon lemon lemon lemon lemon lemon\n",
       "4            run market lemon sale today\n",
       "5                     market carry lemon\n",
       "6      palmer half lemonade half ice tea\n",
       "7                       ice tea favorite\n",
       "Name: sentence, dtype: object"
      ]
     },
     "execution_count": 6,
     "metadata": {},
     "output_type": "execute_result"
    }
   ],
   "source": [
    "series"
   ]
  },
  {
   "cell_type": "code",
   "execution_count": 21,
   "id": "52966858-e4d7-451b-aafb-f26c1af18955",
   "metadata": {},
   "outputs": [],
   "source": [
    "tv=TfidfVectorizer(stop_words=\"english\", ngram_range=(1,2),min_df=.2,max_df=0.8)\n",
    "tfidf=tv.fit_transform(series)\n",
    "tf_df=pd.DataFrame(tfidf.toarray(), columns=tv.get_feature_names_out())"
   ]
  },
  {
   "cell_type": "code",
   "execution_count": 23,
   "id": "5332789f-992c-4dda-9be7-e5c70e6fcef7",
   "metadata": {},
   "outputs": [
    {
     "data": {
      "text/html": [
       "<div>\n",
       "<style scoped>\n",
       "    .dataframe tbody tr th:only-of-type {\n",
       "        vertical-align: middle;\n",
       "    }\n",
       "\n",
       "    .dataframe tbody tr th {\n",
       "        vertical-align: top;\n",
       "    }\n",
       "\n",
       "    .dataframe thead th {\n",
       "        text-align: right;\n",
       "    }\n",
       "</style>\n",
       "<table border=\"1\" class=\"dataframe\">\n",
       "  <thead>\n",
       "    <tr style=\"text-align: right;\">\n",
       "      <th></th>\n",
       "      <th>ice</th>\n",
       "      <th>ice tea</th>\n",
       "      <th>lemon</th>\n",
       "      <th>lemonade</th>\n",
       "      <th>market</th>\n",
       "      <th>tea</th>\n",
       "    </tr>\n",
       "  </thead>\n",
       "  <tbody>\n",
       "    <tr>\n",
       "      <th>0</th>\n",
       "      <td>0.000000</td>\n",
       "      <td>0.000000</td>\n",
       "      <td>0.568471</td>\n",
       "      <td>0.822704</td>\n",
       "      <td>0.000000</td>\n",
       "      <td>0.000000</td>\n",
       "    </tr>\n",
       "    <tr>\n",
       "      <th>1</th>\n",
       "      <td>0.000000</td>\n",
       "      <td>0.000000</td>\n",
       "      <td>0.568471</td>\n",
       "      <td>0.000000</td>\n",
       "      <td>0.822704</td>\n",
       "      <td>0.000000</td>\n",
       "    </tr>\n",
       "    <tr>\n",
       "      <th>2</th>\n",
       "      <td>0.000000</td>\n",
       "      <td>0.000000</td>\n",
       "      <td>0.568471</td>\n",
       "      <td>0.822704</td>\n",
       "      <td>0.000000</td>\n",
       "      <td>0.000000</td>\n",
       "    </tr>\n",
       "    <tr>\n",
       "      <th>3</th>\n",
       "      <td>0.000000</td>\n",
       "      <td>0.000000</td>\n",
       "      <td>1.000000</td>\n",
       "      <td>0.000000</td>\n",
       "      <td>0.000000</td>\n",
       "      <td>0.000000</td>\n",
       "    </tr>\n",
       "    <tr>\n",
       "      <th>4</th>\n",
       "      <td>0.000000</td>\n",
       "      <td>0.000000</td>\n",
       "      <td>0.568471</td>\n",
       "      <td>0.000000</td>\n",
       "      <td>0.822704</td>\n",
       "      <td>0.000000</td>\n",
       "    </tr>\n",
       "    <tr>\n",
       "      <th>5</th>\n",
       "      <td>0.000000</td>\n",
       "      <td>0.000000</td>\n",
       "      <td>0.568471</td>\n",
       "      <td>0.000000</td>\n",
       "      <td>0.822704</td>\n",
       "      <td>0.000000</td>\n",
       "    </tr>\n",
       "    <tr>\n",
       "      <th>6</th>\n",
       "      <td>0.516768</td>\n",
       "      <td>0.516768</td>\n",
       "      <td>0.000000</td>\n",
       "      <td>0.445928</td>\n",
       "      <td>0.000000</td>\n",
       "      <td>0.516768</td>\n",
       "    </tr>\n",
       "    <tr>\n",
       "      <th>7</th>\n",
       "      <td>0.577350</td>\n",
       "      <td>0.577350</td>\n",
       "      <td>0.000000</td>\n",
       "      <td>0.000000</td>\n",
       "      <td>0.000000</td>\n",
       "      <td>0.577350</td>\n",
       "    </tr>\n",
       "  </tbody>\n",
       "</table>\n",
       "</div>"
      ],
      "text/plain": [
       "        ice   ice tea     lemon  lemonade    market       tea\n",
       "0  0.000000  0.000000  0.568471  0.822704  0.000000  0.000000\n",
       "1  0.000000  0.000000  0.568471  0.000000  0.822704  0.000000\n",
       "2  0.000000  0.000000  0.568471  0.822704  0.000000  0.000000\n",
       "3  0.000000  0.000000  1.000000  0.000000  0.000000  0.000000\n",
       "4  0.000000  0.000000  0.568471  0.000000  0.822704  0.000000\n",
       "5  0.000000  0.000000  0.568471  0.000000  0.822704  0.000000\n",
       "6  0.516768  0.516768  0.000000  0.445928  0.000000  0.516768\n",
       "7  0.577350  0.577350  0.000000  0.000000  0.000000  0.577350"
      ]
     },
     "execution_count": 23,
     "metadata": {},
     "output_type": "execute_result"
    }
   ],
   "source": [
    "tf_df"
   ]
  },
  {
   "cell_type": "code",
   "execution_count": null,
   "id": "b63e8d65-b577-4356-adeb-30b916275014",
   "metadata": {},
   "outputs": [],
   "source": []
  }
 ],
 "metadata": {
  "kernelspec": {
   "display_name": "Python [conda env:base] *",
   "language": "python",
   "name": "conda-base-py"
  },
  "language_info": {
   "codemirror_mode": {
    "name": "ipython",
    "version": 3
   },
   "file_extension": ".py",
   "mimetype": "text/x-python",
   "name": "python",
   "nbconvert_exporter": "python",
   "pygments_lexer": "ipython3",
   "version": "3.12.3"
  }
 },
 "nbformat": 4,
 "nbformat_minor": 5
}
