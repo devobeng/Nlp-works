{
 "cells": [
  {
   "cell_type": "code",
   "execution_count": 14,
   "id": "12ec0df9-77e5-4bc9-97ae-0f79238d9fbc",
   "metadata": {},
   "outputs": [],
   "source": [
    "import pandas as pd\n",
    "import spacy\n",
    "pd.set_option(\"display.max_colwidth\", None)\n",
    "nlp=spacy.load(\"en_core_web_sm\")"
   ]
  },
  {
   "cell_type": "code",
   "execution_count": 22,
   "id": "eca91aa3-5d98-40a9-8880-c07655245636",
   "metadata": {},
   "outputs": [
    {
     "data": {
      "text/html": [
       "<div>\n",
       "<style scoped>\n",
       "    .dataframe tbody tr th:only-of-type {\n",
       "        vertical-align: middle;\n",
       "    }\n",
       "\n",
       "    .dataframe tbody tr th {\n",
       "        vertical-align: top;\n",
       "    }\n",
       "\n",
       "    .dataframe thead th {\n",
       "        text-align: right;\n",
       "    }\n",
       "</style>\n",
       "<table border=\"1\" class=\"dataframe\">\n",
       "  <thead>\n",
       "    <tr style=\"text-align: right;\">\n",
       "      <th></th>\n",
       "      <th>Ranking</th>\n",
       "      <th>Title</th>\n",
       "      <th>Author</th>\n",
       "      <th>Year</th>\n",
       "      <th>Rating</th>\n",
       "      <th>Description</th>\n",
       "    </tr>\n",
       "  </thead>\n",
       "  <tbody>\n",
       "    <tr>\n",
       "      <th>0</th>\n",
       "      <td>1</td>\n",
       "      <td>Where the Wild Things Are</td>\n",
       "      <td>Maurice Sendak</td>\n",
       "      <td>1963</td>\n",
       "      <td>4.25</td>\n",
       "      <td>Where the Wild Things Are follows Max, a young boy who, after being sent to his room for misbehaving, imagines sailing to an island filled with wild creatures. As their king, Max tames the beasts and eventually returns home to find his supper waiting for him. This iconic book explores themes of imagination, adventure, and the complex emotions of childhood, all captured through Sendak's whimsical illustrations and story.</td>\n",
       "    </tr>\n",
       "    <tr>\n",
       "      <th>1</th>\n",
       "      <td>2</td>\n",
       "      <td>The Very Hungry Caterpillar</td>\n",
       "      <td>Eric Carle</td>\n",
       "      <td>1969</td>\n",
       "      <td>4.34</td>\n",
       "      <td>The Very Hungry Caterpillar tells the story of a caterpillar who eats through a variety of foods before eventually becoming a butterfly. Eric Carle’s use of colorful collage illustrations and rhythmic text has made this book a beloved classic for young readers. The simple, engaging story introduces children to days of the week, counting, and the concept of metamorphosis. It’s a staple in early childhood education.</td>\n",
       "    </tr>\n",
       "    <tr>\n",
       "      <th>2</th>\n",
       "      <td>3</td>\n",
       "      <td>The Giving Tree</td>\n",
       "      <td>Shel Silverstein</td>\n",
       "      <td>1964</td>\n",
       "      <td>4.38</td>\n",
       "      <td>The Giving Tree is a touching and bittersweet story about a tree that gives everything it has to a boy over the course of his life. As the boy grows up, he takes more from the tree, and the tree continues to give, even when it has little left. Silverstein’s minimalist text and illustrations convey deep themes of unconditional love, selflessness, and the passage of time. It has sparked much discussion about relationships and sacrifice.</td>\n",
       "    </tr>\n",
       "    <tr>\n",
       "      <th>3</th>\n",
       "      <td>4</td>\n",
       "      <td>Green Eggs and Ham</td>\n",
       "      <td>Dr. Seuss</td>\n",
       "      <td>1960</td>\n",
       "      <td>4.31</td>\n",
       "      <td>In Green Eggs and Ham, Sam-I-Am tries to convince a reluctant character to try a dish of green eggs and ham, despite his resistance. Through repetition and rhyme, Dr. Seuss’s classic story about being open to new experiences encourages children to be adventurous and try things outside their comfort zone. The playful illustrations and humorous dialogue make it a fun and educational read for young readers.</td>\n",
       "    </tr>\n",
       "    <tr>\n",
       "      <th>4</th>\n",
       "      <td>5</td>\n",
       "      <td>Goodnight Moon</td>\n",
       "      <td>Margaret Wise Brown</td>\n",
       "      <td>1947</td>\n",
       "      <td>4.31</td>\n",
       "      <td>Goodnight Moon is a gentle, rhythmic bedtime story where a little bunny says goodnight to everything in his room, from the moon to the \"quiet old lady whispering hush.\" Its repetitive structure and comforting tone make it ideal for young children. The simple illustrations by Clement Hurd complement the soothing nature of the story, making it a beloved classic for sleep-time reading.</td>\n",
       "    </tr>\n",
       "  </tbody>\n",
       "</table>\n",
       "</div>"
      ],
      "text/plain": [
       "   Ranking                        Title               Author  Year Rating  \\\n",
       "0        1    Where the Wild Things Are       Maurice Sendak  1963   4.25   \n",
       "1        2  The Very Hungry Caterpillar           Eric Carle  1969   4.34   \n",
       "2        3              The Giving Tree     Shel Silverstein  1964   4.38   \n",
       "3        4           Green Eggs and Ham            Dr. Seuss  1960   4.31   \n",
       "4        5               Goodnight Moon  Margaret Wise Brown  1947   4.31   \n",
       "\n",
       "                                                                                                                                                                                                                                                                                                                                                                                                                                              Description  \n",
       "0                 Where the Wild Things Are follows Max, a young boy who, after being sent to his room for misbehaving, imagines sailing to an island filled with wild creatures. As their king, Max tames the beasts and eventually returns home to find his supper waiting for him. This iconic book explores themes of imagination, adventure, and the complex emotions of childhood, all captured through Sendak's whimsical illustrations and story.  \n",
       "1                       The Very Hungry Caterpillar tells the story of a caterpillar who eats through a variety of foods before eventually becoming a butterfly. Eric Carle’s use of colorful collage illustrations and rhythmic text has made this book a beloved classic for young readers. The simple, engaging story introduces children to days of the week, counting, and the concept of metamorphosis. It’s a staple in early childhood education.  \n",
       "2  The Giving Tree is a touching and bittersweet story about a tree that gives everything it has to a boy over the course of his life. As the boy grows up, he takes more from the tree, and the tree continues to give, even when it has little left. Silverstein’s minimalist text and illustrations convey deep themes of unconditional love, selflessness, and the passage of time. It has sparked much discussion about relationships and sacrifice.  \n",
       "3                                 In Green Eggs and Ham, Sam-I-Am tries to convince a reluctant character to try a dish of green eggs and ham, despite his resistance. Through repetition and rhyme, Dr. Seuss’s classic story about being open to new experiences encourages children to be adventurous and try things outside their comfort zone. The playful illustrations and humorous dialogue make it a fun and educational read for young readers.  \n",
       "4                                                       Goodnight Moon is a gentle, rhythmic bedtime story where a little bunny says goodnight to everything in his room, from the moon to the \"quiet old lady whispering hush.\" Its repetitive structure and comforting tone make it ideal for young children. The simple illustrations by Clement Hurd complement the soothing nature of the story, making it a beloved classic for sleep-time reading.  "
      ]
     },
     "execution_count": 22,
     "metadata": {},
     "output_type": "execute_result"
    }
   ],
   "source": [
    "data= pd.read_csv('./Data/childrens_books.csv')\n",
    "data.head()\n"
   ]
  },
  {
   "cell_type": "code",
   "execution_count": 9,
   "id": "f0b2f6d3-1a3f-4179-9405-8fb04950cf49",
   "metadata": {},
   "outputs": [],
   "source": [
    "def lower_sentence(series):\n",
    "    output=series.str.lower()\n",
    "    output=output.str.replace(r'\\[.*?\\]', '', regex=True)\n",
    "    # remove puntuations\n",
    "    output=output.str.replace(r'[^\\w\\s]', '', regex=True)\n",
    "    return output\n",
    "def token_lemma_nonstop(text):\n",
    "    doc=nlp(text)\n",
    "    output=[token.lemma_ for token in doc if not token.is_stop]\n",
    "    return ' '.join(output)\n",
    "def filter_pos(text,list_parts=['NOUN', 'VERB']):\n",
    "    doc=nlp(text)\n",
    "    pos=[token.text for token in doc if token.pos_ in list_parts]\n",
    "    return ' '.join(pos)"
   ]
  },
  {
   "cell_type": "code",
   "execution_count": 16,
   "id": "0399d4f7-8fa5-4d3b-9a49-e5653bc79998",
   "metadata": {},
   "outputs": [],
   "source": [
    "def nlp_pipeline(series):\n",
    "    output=lower_sentence(series)\n",
    "    output=output.apply(token_lemma_nonstop)\n",
    "    output=output.apply(filter_pos)\n",
    "    return output"
   ]
  },
  {
   "cell_type": "code",
   "execution_count": 24,
   "id": "e5583db3-6125-445e-8c86-1c4846315304",
   "metadata": {},
   "outputs": [
    {
     "data": {
      "text/plain": [
       "0                            thing follow boy send room misbehave fill creature king beast return home find supper wait book explore theme imagination adventure emotion childhood capture illustration story\n",
       "1     caterpillar tell story caterpillar eat variety food use collage illustration text book beloved reader engaging story introduce child day week counting concept metamorphosis staple childhood education\n",
       "2      giving tree touching story tree give boy course life boy grow take tree tree continue minimalist text illustration convey theme love selflessness passage time spark discussion relationship sacrifice\n",
       "3                                                 try convince character try dish egg ham resistance repetition story experience encourage child try thing comfort zone illustration dialogue fun read reader\n",
       "4                                           moon bedtime story bunny say goodnight room moon lady whispering structure comfort tone child illustration clement complement nature story make sleeptime reading\n",
       "                                                                                                       ...                                                                                                   \n",
       "95                stone soup retell arrive village claim soup stone villager contribute ingredient pot create meal story heartwarming lesson share community cooperation enhance muth watercolor illustration\n",
       "96                                                   collection explore range topic wit humor imagination poem carry sense wonder creativity voice illustration book timeless collection continue child adult\n",
       "97                                                     prisoner book year uncover past arrival navigate truth face fear thrill installment explore theme loyalty friendship identity mark turning point world\n",
       "98                                                                                             book hogwart year uncover school event unfold school theme courage friendship stand explore gripping adventure\n",
       "99                                                                              retelling reach come strategy trick troll teach child lesson teamwork bravery galdone illustration text bring life way reader\n",
       "Name: Description, Length: 100, dtype: object"
      ]
     },
     "execution_count": 24,
     "metadata": {},
     "output_type": "execute_result"
    }
   ],
   "source": [
    "nlp_pipeline(data.Description)"
   ]
  },
  {
   "cell_type": "code",
   "execution_count": null,
   "id": "b143fbc7-683d-486f-bf85-9af7ac5d95e3",
   "metadata": {},
   "outputs": [],
   "source": []
  }
 ],
 "metadata": {
  "kernelspec": {
   "display_name": "Python [conda env:base] *",
   "language": "python",
   "name": "conda-base-py"
  },
  "language_info": {
   "codemirror_mode": {
    "name": "ipython",
    "version": 3
   },
   "file_extension": ".py",
   "mimetype": "text/x-python",
   "name": "python",
   "nbconvert_exporter": "python",
   "pygments_lexer": "ipython3",
   "version": "3.12.3"
  }
 },
 "nbformat": 4,
 "nbformat_minor": 5
}
