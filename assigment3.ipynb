{
 "cells": [
  {
   "cell_type": "code",
   "execution_count": 147,
   "id": "ae375fe1-cb89-483c-8a30-f8a835394b7f",
   "metadata": {},
   "outputs": [],
   "source": [
    "import pandas as pd\n",
    "from sklearn.feature_extraction.text import CountVectorizer\n",
    "import spacy"
   ]
  },
  {
   "cell_type": "code",
   "execution_count": 150,
   "id": "d07f9c3b-5ceb-4fea-808f-6b5a054c778c",
   "metadata": {},
   "outputs": [],
   "source": [
    "npl=spacy.load(\"en_core_web_sm\")"
   ]
  },
  {
   "cell_type": "code",
   "execution_count": 214,
   "id": "6f4337dd-032d-403e-a050-0fd2eb7871b3",
   "metadata": {},
   "outputs": [],
   "source": [
    "cv=CountVectorizer(stop_words='english', ngram_range=(1,2), min_df=.1)"
   ]
  },
  {
   "cell_type": "code",
   "execution_count": 216,
   "id": "b52395e8-3b9b-49b5-bf19-dfa3819c76ca",
   "metadata": {},
   "outputs": [],
   "source": [
    "df= pd.read_csv('./Data/childrens_books.csv')"
   ]
  },
  {
   "cell_type": "code",
   "execution_count": 218,
   "id": "f2baf9bb-4645-467c-b096-61c8e9587f01",
   "metadata": {},
   "outputs": [
    {
     "data": {
      "text/html": [
       "<div>\n",
       "<style scoped>\n",
       "    .dataframe tbody tr th:only-of-type {\n",
       "        vertical-align: middle;\n",
       "    }\n",
       "\n",
       "    .dataframe tbody tr th {\n",
       "        vertical-align: top;\n",
       "    }\n",
       "\n",
       "    .dataframe thead th {\n",
       "        text-align: right;\n",
       "    }\n",
       "</style>\n",
       "<table border=\"1\" class=\"dataframe\">\n",
       "  <thead>\n",
       "    <tr style=\"text-align: right;\">\n",
       "      <th></th>\n",
       "      <th>Ranking</th>\n",
       "      <th>Title</th>\n",
       "      <th>Author</th>\n",
       "      <th>Year</th>\n",
       "      <th>Rating</th>\n",
       "      <th>Description</th>\n",
       "    </tr>\n",
       "  </thead>\n",
       "  <tbody>\n",
       "    <tr>\n",
       "      <th>0</th>\n",
       "      <td>1</td>\n",
       "      <td>Where the Wild Things Are</td>\n",
       "      <td>Maurice Sendak</td>\n",
       "      <td>1963</td>\n",
       "      <td>4.25</td>\n",
       "      <td>Where the Wild Things Are follows Max, a young...</td>\n",
       "    </tr>\n",
       "    <tr>\n",
       "      <th>1</th>\n",
       "      <td>2</td>\n",
       "      <td>The Very Hungry Caterpillar</td>\n",
       "      <td>Eric Carle</td>\n",
       "      <td>1969</td>\n",
       "      <td>4.34</td>\n",
       "      <td>The Very Hungry Caterpillar tells the story of...</td>\n",
       "    </tr>\n",
       "    <tr>\n",
       "      <th>2</th>\n",
       "      <td>3</td>\n",
       "      <td>The Giving Tree</td>\n",
       "      <td>Shel Silverstein</td>\n",
       "      <td>1964</td>\n",
       "      <td>4.38</td>\n",
       "      <td>The Giving Tree is a touching and bittersweet ...</td>\n",
       "    </tr>\n",
       "    <tr>\n",
       "      <th>3</th>\n",
       "      <td>4</td>\n",
       "      <td>Green Eggs and Ham</td>\n",
       "      <td>Dr. Seuss</td>\n",
       "      <td>1960</td>\n",
       "      <td>4.31</td>\n",
       "      <td>In Green Eggs and Ham, Sam-I-Am tries to convi...</td>\n",
       "    </tr>\n",
       "    <tr>\n",
       "      <th>4</th>\n",
       "      <td>5</td>\n",
       "      <td>Goodnight Moon</td>\n",
       "      <td>Margaret Wise Brown</td>\n",
       "      <td>1947</td>\n",
       "      <td>4.31</td>\n",
       "      <td>Goodnight Moon is a gentle, rhythmic bedtime s...</td>\n",
       "    </tr>\n",
       "  </tbody>\n",
       "</table>\n",
       "</div>"
      ],
      "text/plain": [
       "   Ranking                        Title               Author  Year Rating  \\\n",
       "0        1    Where the Wild Things Are       Maurice Sendak  1963   4.25   \n",
       "1        2  The Very Hungry Caterpillar           Eric Carle  1969   4.34   \n",
       "2        3              The Giving Tree     Shel Silverstein  1964   4.38   \n",
       "3        4           Green Eggs and Ham            Dr. Seuss  1960   4.31   \n",
       "4        5               Goodnight Moon  Margaret Wise Brown  1947   4.31   \n",
       "\n",
       "                                         Description  \n",
       "0  Where the Wild Things Are follows Max, a young...  \n",
       "1  The Very Hungry Caterpillar tells the story of...  \n",
       "2  The Giving Tree is a touching and bittersweet ...  \n",
       "3  In Green Eggs and Ham, Sam-I-Am tries to convi...  \n",
       "4  Goodnight Moon is a gentle, rhythmic bedtime s...  "
      ]
     },
     "execution_count": 218,
     "metadata": {},
     "output_type": "execute_result"
    }
   ],
   "source": [
    "df.head()"
   ]
  },
  {
   "cell_type": "code",
   "execution_count": 220,
   "id": "ce3f3b36-77a7-4dc3-9899-e959dfe917d4",
   "metadata": {},
   "outputs": [],
   "source": [
    "def lower_sentence(series):\n",
    "    output=series.str.lower()\n",
    "    output=output.str.replace(r'\\[.*?\\]', '', regex=True)\n",
    "    # remove puntuations\n",
    "    output=output.str.replace(r'[^\\w\\s]', '', regex=True)\n",
    "    return output"
   ]
  },
  {
   "cell_type": "code",
   "execution_count": 222,
   "id": "ed69f804-7378-49f1-80f8-730fbfe867da",
   "metadata": {},
   "outputs": [],
   "source": [
    "def clean_sentence(series):\n",
    "    doc=npl(series)\n",
    "    output=[token.lemma_ for token in doc if not token.is_stop]\n",
    "    return ' '.join(output)"
   ]
  },
  {
   "cell_type": "code",
   "execution_count": 224,
   "id": "0fb0ac00-68e9-4278-894c-a927442f2221",
   "metadata": {},
   "outputs": [],
   "source": [
    "df['Clean_Description']= lower_sentence(df.Description).apply(clean_sentence)"
   ]
  },
  {
   "cell_type": "code",
   "execution_count": 225,
   "id": "bba27388-d181-4f52-9aea-67cacf1d9aec",
   "metadata": {},
   "outputs": [
    {
     "data": {
      "text/html": [
       "<div>\n",
       "<style scoped>\n",
       "    .dataframe tbody tr th:only-of-type {\n",
       "        vertical-align: middle;\n",
       "    }\n",
       "\n",
       "    .dataframe tbody tr th {\n",
       "        vertical-align: top;\n",
       "    }\n",
       "\n",
       "    .dataframe thead th {\n",
       "        text-align: right;\n",
       "    }\n",
       "</style>\n",
       "<table border=\"1\" class=\"dataframe\">\n",
       "  <thead>\n",
       "    <tr style=\"text-align: right;\">\n",
       "      <th></th>\n",
       "      <th>Ranking</th>\n",
       "      <th>Title</th>\n",
       "      <th>Author</th>\n",
       "      <th>Year</th>\n",
       "      <th>Rating</th>\n",
       "      <th>Description</th>\n",
       "      <th>Clean_Description</th>\n",
       "    </tr>\n",
       "  </thead>\n",
       "  <tbody>\n",
       "    <tr>\n",
       "      <th>0</th>\n",
       "      <td>1</td>\n",
       "      <td>Where the Wild Things Are</td>\n",
       "      <td>Maurice Sendak</td>\n",
       "      <td>1963</td>\n",
       "      <td>4.25</td>\n",
       "      <td>Where the Wild Things Are follows Max, a young...</td>\n",
       "      <td>wild thing   follow max young boy send room mi...</td>\n",
       "    </tr>\n",
       "    <tr>\n",
       "      <th>1</th>\n",
       "      <td>2</td>\n",
       "      <td>The Very Hungry Caterpillar</td>\n",
       "      <td>Eric Carle</td>\n",
       "      <td>1969</td>\n",
       "      <td>4.34</td>\n",
       "      <td>The Very Hungry Caterpillar tells the story of...</td>\n",
       "      <td>hungry caterpillar   tell story caterpillar ea...</td>\n",
       "    </tr>\n",
       "    <tr>\n",
       "      <th>2</th>\n",
       "      <td>3</td>\n",
       "      <td>The Giving Tree</td>\n",
       "      <td>Shel Silverstein</td>\n",
       "      <td>1964</td>\n",
       "      <td>4.38</td>\n",
       "      <td>The Giving Tree is a touching and bittersweet ...</td>\n",
       "      <td>giving tree   touching bittersweet story tree ...</td>\n",
       "    </tr>\n",
       "    <tr>\n",
       "      <th>3</th>\n",
       "      <td>4</td>\n",
       "      <td>Green Eggs and Ham</td>\n",
       "      <td>Dr. Seuss</td>\n",
       "      <td>1960</td>\n",
       "      <td>4.31</td>\n",
       "      <td>In Green Eggs and Ham, Sam-I-Am tries to convi...</td>\n",
       "      <td>green egg ham samiam try convince reluctant ...</td>\n",
       "    </tr>\n",
       "    <tr>\n",
       "      <th>4</th>\n",
       "      <td>5</td>\n",
       "      <td>Goodnight Moon</td>\n",
       "      <td>Margaret Wise Brown</td>\n",
       "      <td>1947</td>\n",
       "      <td>4.31</td>\n",
       "      <td>Goodnight Moon is a gentle, rhythmic bedtime s...</td>\n",
       "      <td>goodnight moon   gentle rhythmic bedtime story...</td>\n",
       "    </tr>\n",
       "  </tbody>\n",
       "</table>\n",
       "</div>"
      ],
      "text/plain": [
       "   Ranking                        Title               Author  Year Rating  \\\n",
       "0        1    Where the Wild Things Are       Maurice Sendak  1963   4.25   \n",
       "1        2  The Very Hungry Caterpillar           Eric Carle  1969   4.34   \n",
       "2        3              The Giving Tree     Shel Silverstein  1964   4.38   \n",
       "3        4           Green Eggs and Ham            Dr. Seuss  1960   4.31   \n",
       "4        5               Goodnight Moon  Margaret Wise Brown  1947   4.31   \n",
       "\n",
       "                                         Description  \\\n",
       "0  Where the Wild Things Are follows Max, a young...   \n",
       "1  The Very Hungry Caterpillar tells the story of...   \n",
       "2  The Giving Tree is a touching and bittersweet ...   \n",
       "3  In Green Eggs and Ham, Sam-I-Am tries to convi...   \n",
       "4  Goodnight Moon is a gentle, rhythmic bedtime s...   \n",
       "\n",
       "                                   Clean_Description  \n",
       "0  wild thing   follow max young boy send room mi...  \n",
       "1  hungry caterpillar   tell story caterpillar ea...  \n",
       "2  giving tree   touching bittersweet story tree ...  \n",
       "3    green egg ham samiam try convince reluctant ...  \n",
       "4  goodnight moon   gentle rhythmic bedtime story...  "
      ]
     },
     "execution_count": 225,
     "metadata": {},
     "output_type": "execute_result"
    }
   ],
   "source": [
    "df.head()"
   ]
  },
  {
   "cell_type": "code",
   "execution_count": 228,
   "id": "9c61dfc6-108e-4be0-88af-24ebbef49e2c",
   "metadata": {},
   "outputs": [],
   "source": [
    "dtm=cv.fit_transform(df.Clean_Description)"
   ]
  },
  {
   "cell_type": "code",
   "execution_count": 230,
   "id": "e1834d06-1b33-4cfd-ae4a-c8fe142bebb5",
   "metadata": {},
   "outputs": [],
   "source": [
    "dtm_df=pd.DataFrame(dtm.toarray(), columns=cv.get_feature_names_out())"
   ]
  },
  {
   "cell_type": "code",
   "execution_count": 242,
   "id": "ec6cc415-9f47-4c1a-8eff-83675838b69b",
   "metadata": {},
   "outputs": [
    {
     "data": {
      "text/plain": [
       "story           104\n",
       "book             75\n",
       "child            66\n",
       "young            64\n",
       "reader           54\n",
       "illustration     54\n",
       "adventure        39\n",
       "classic          36\n",
       "theme            33\n",
       "explore          30\n",
       "dtype: int64"
      ]
     },
     "execution_count": 242,
     "metadata": {},
     "output_type": "execute_result"
    }
   ],
   "source": [
    "dtm_df.sum().sort_values(ascending=False).head(10)"
   ]
  },
  {
   "cell_type": "code",
   "execution_count": 246,
   "id": "6d72c418-201b-4771-a712-0294d12b5bb9",
   "metadata": {},
   "outputs": [
    {
     "data": {
      "text/plain": [
       "girl           11\n",
       "imagination    11\n",
       "imaginative    11\n",
       "magical        11\n",
       "importance     11\n",
       "early          10\n",
       "embark         10\n",
       "perfect        10\n",
       "favorite       10\n",
       "joy            10\n",
       "dtype: int64"
      ]
     },
     "execution_count": 246,
     "metadata": {},
     "output_type": "execute_result"
    }
   ],
   "source": [
    "dtm_df.sum().sort_values(ascending=False).tail(10)"
   ]
  },
  {
   "cell_type": "code",
   "execution_count": 256,
   "id": "b2a85188-130b-400e-9510-f22cc0747d18",
   "metadata": {},
   "outputs": [
    {
     "ename": "NameError",
     "evalue": "name 'Falsa' is not defined",
     "output_type": "error",
     "traceback": [
      "\u001b[1;31m---------------------------------------------------------------------------\u001b[0m",
      "\u001b[1;31mNameError\u001b[0m                                 Traceback (most recent call last)",
      "Cell \u001b[1;32mIn[256], line 1\u001b[0m\n\u001b[1;32m----> 1\u001b[0m dtm_df\u001b[38;5;241m.\u001b[39msum()\u001b[38;5;241m.\u001b[39msort_values(ascending\u001b[38;5;241m=\u001b[39mFalsa)\u001b[38;5;241m.\u001b[39mhead(\u001b[38;5;241m10\u001b[39m)\u001b[38;5;241m.\u001b[39mplot(kind\u001b[38;5;241m=\u001b[39m\u001b[38;5;124m'\u001b[39m\u001b[38;5;124mbarh\u001b[39m\u001b[38;5;124m'\u001b[39m)\n",
      "\u001b[1;31mNameError\u001b[0m: name 'Falsa' is not defined"
     ]
    }
   ],
   "source": [
    "dtm_df.sum().sort_values(ascending=Falsa).head(10).plot(kind='barh')"
   ]
  },
  {
   "cell_type": "code",
   "execution_count": null,
   "id": "be2e0b83-c7c4-4cf6-9422-f289809c9096",
   "metadata": {},
   "outputs": [],
   "source": []
  }
 ],
 "metadata": {
  "kernelspec": {
   "display_name": "Python [conda env:base] *",
   "language": "python",
   "name": "conda-base-py"
  },
  "language_info": {
   "codemirror_mode": {
    "name": "ipython",
    "version": 3
   },
   "file_extension": ".py",
   "mimetype": "text/x-python",
   "name": "python",
   "nbconvert_exporter": "python",
   "pygments_lexer": "ipython3",
   "version": "3.12.3"
  }
 },
 "nbformat": 4,
 "nbformat_minor": 5
}
