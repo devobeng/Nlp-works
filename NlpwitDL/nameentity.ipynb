{
 "cells": [
  {
   "cell_type": "code",
   "execution_count": null,
   "id": "c2aa6dba-1216-4815-878c-0d804743cacd",
   "metadata": {},
   "outputs": [],
   "source": [
    "%time\n",
    "import pandas as pd\n",
    "from transformers import pipeline\n",
    "from transformers import logging\n",
    "logging.set_verbosity_error()\n",
    "pd.set_option(\"display.max_colwidth\", None)\n",
    "\n",
    "ner_analyser=pipeline('ner',model=\"dbmdz/bert-large-cased-finetuned-collo3-english\",\n",
    "                     device=-1,\n",
    "                     aggregation_strategy=\"SIMPLE\")\n"
   ]
  },
  {
   "cell_type": "code",
   "execution_count": null,
   "id": "d60660c6-44d1-46d3-bdc2-161b571c7703",
   "metadata": {},
   "outputs": [],
   "source": [
    "df['Named_entity']=df.Text.apply(lambda x: [entity['word'] for entity in ner_analyser(x)])"
   ]
  },
  {
   "cell_type": "code",
   "execution_count": null,
   "id": "2d82a6c2-3219-4078-bbb7-a69b2df8bd54",
   "metadata": {},
   "outputs": [],
   "source": [
    "name_entities=list(set(df['Named_entity'].explode().dropna().tolist()))"
   ]
  },
  {
   "cell_type": "code",
   "execution_count": null,
   "id": "298cd621-cb23-42a2-b224-7fc049608ab3",
   "metadata": {},
   "outputs": [],
   "source": [
    "[entity for entity in name_entities if  \"#\" not in entity]"
   ]
  }
 ],
 "metadata": {
  "kernelspec": {
   "display_name": "Python 3 (ipykernel)",
   "language": "python",
   "name": "python3"
  },
  "language_info": {
   "codemirror_mode": {
    "name": "ipython",
    "version": 3
   },
   "file_extension": ".py",
   "mimetype": "text/x-python",
   "name": "python",
   "nbconvert_exporter": "python",
   "pygments_lexer": "ipython3",
   "version": "3.10.18"
  }
 },
 "nbformat": 4,
 "nbformat_minor": 5
}
