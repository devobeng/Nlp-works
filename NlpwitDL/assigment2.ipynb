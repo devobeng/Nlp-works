{
 "cells": [
  {
   "cell_type": "code",
   "execution_count": 1,
   "id": "fb1ef5f7-a1bd-47e1-a8bc-b1e70d7576ea",
   "metadata": {},
   "outputs": [
    {
     "name": "stderr",
     "output_type": "stream",
     "text": [
      "C:\\ProgramData\\anaconda3\\envs\\nlp_env\\lib\\site-packages\\tqdm\\auto.py:21: TqdmWarning: IProgress not found. Please update jupyter and ipywidgets. See https://ipywidgets.readthedocs.io/en/stable/user_install.html\n",
      "  from .autonotebook import tqdm as notebook_tqdm\n"
     ]
    }
   ],
   "source": [
    "from transformers import pipeline, logging\n",
    "import pandas as pd\n",
    "logging.set_verbosity_error()\n",
    "pd.set_option(\"display.max_colwidth\", None)"
   ]
  },
  {
   "cell_type": "code",
   "execution_count": 2,
   "id": "cf613b65-d1dd-45fb-8642-1c76ac7bb14f",
   "metadata": {},
   "outputs": [],
   "source": [
    "df=pd.read_csv('../Data/childrens_books.csv').head(10)"
   ]
  },
  {
   "cell_type": "code",
   "execution_count": 7,
   "id": "a67e0fd8-72e0-475b-bbe1-1898bbf1bb53",
   "metadata": {},
   "outputs": [
    {
     "name": "stdout",
     "output_type": "stream",
     "text": [
      "(10, 6)\n"
     ]
    },
    {
     "data": {
      "text/html": [
       "<div>\n",
       "<style scoped>\n",
       "    .dataframe tbody tr th:only-of-type {\n",
       "        vertical-align: middle;\n",
       "    }\n",
       "\n",
       "    .dataframe tbody tr th {\n",
       "        vertical-align: top;\n",
       "    }\n",
       "\n",
       "    .dataframe thead th {\n",
       "        text-align: right;\n",
       "    }\n",
       "</style>\n",
       "<table border=\"1\" class=\"dataframe\">\n",
       "  <thead>\n",
       "    <tr style=\"text-align: right;\">\n",
       "      <th></th>\n",
       "      <th>Ranking</th>\n",
       "      <th>Title</th>\n",
       "      <th>Author</th>\n",
       "      <th>Year</th>\n",
       "      <th>Rating</th>\n",
       "      <th>Description</th>\n",
       "    </tr>\n",
       "  </thead>\n",
       "  <tbody>\n",
       "    <tr>\n",
       "      <th>0</th>\n",
       "      <td>1</td>\n",
       "      <td>Where the Wild Things Are</td>\n",
       "      <td>Maurice Sendak</td>\n",
       "      <td>1963</td>\n",
       "      <td>4.25</td>\n",
       "      <td>Where the Wild Things Are follows Max, a young boy who, after being sent to his room for misbehaving, imagines sailing to an island filled with wild creatures. As their king, Max tames the beasts and eventually returns home to find his supper waiting for him. This iconic book explores themes of imagination, adventure, and the complex emotions of childhood, all captured through Sendak's whimsical illustrations and story.</td>\n",
       "    </tr>\n",
       "    <tr>\n",
       "      <th>1</th>\n",
       "      <td>2</td>\n",
       "      <td>The Very Hungry Caterpillar</td>\n",
       "      <td>Eric Carle</td>\n",
       "      <td>1969</td>\n",
       "      <td>4.34</td>\n",
       "      <td>The Very Hungry Caterpillar tells the story of a caterpillar who eats through a variety of foods before eventually becoming a butterfly. Eric Carle’s use of colorful collage illustrations and rhythmic text has made this book a beloved classic for young readers. The simple, engaging story introduces children to days of the week, counting, and the concept of metamorphosis. It’s a staple in early childhood education.</td>\n",
       "    </tr>\n",
       "    <tr>\n",
       "      <th>2</th>\n",
       "      <td>3</td>\n",
       "      <td>The Giving Tree</td>\n",
       "      <td>Shel Silverstein</td>\n",
       "      <td>1964</td>\n",
       "      <td>4.38</td>\n",
       "      <td>The Giving Tree is a touching and bittersweet story about a tree that gives everything it has to a boy over the course of his life. As the boy grows up, he takes more from the tree, and the tree continues to give, even when it has little left. Silverstein’s minimalist text and illustrations convey deep themes of unconditional love, selflessness, and the passage of time. It has sparked much discussion about relationships and sacrifice.</td>\n",
       "    </tr>\n",
       "    <tr>\n",
       "      <th>3</th>\n",
       "      <td>4</td>\n",
       "      <td>Green Eggs and Ham</td>\n",
       "      <td>Dr. Seuss</td>\n",
       "      <td>1960</td>\n",
       "      <td>4.31</td>\n",
       "      <td>In Green Eggs and Ham, Sam-I-Am tries to convince a reluctant character to try a dish of green eggs and ham, despite his resistance. Through repetition and rhyme, Dr. Seuss’s classic story about being open to new experiences encourages children to be adventurous and try things outside their comfort zone. The playful illustrations and humorous dialogue make it a fun and educational read for young readers.</td>\n",
       "    </tr>\n",
       "    <tr>\n",
       "      <th>4</th>\n",
       "      <td>5</td>\n",
       "      <td>Goodnight Moon</td>\n",
       "      <td>Margaret Wise Brown</td>\n",
       "      <td>1947</td>\n",
       "      <td>4.31</td>\n",
       "      <td>Goodnight Moon is a gentle, rhythmic bedtime story where a little bunny says goodnight to everything in his room, from the moon to the \"quiet old lady whispering hush.\" Its repetitive structure and comforting tone make it ideal for young children. The simple illustrations by Clement Hurd complement the soothing nature of the story, making it a beloved classic for sleep-time reading.</td>\n",
       "    </tr>\n",
       "  </tbody>\n",
       "</table>\n",
       "</div>"
      ],
      "text/plain": [
       "   Ranking                        Title               Author  Year Rating  \\\n",
       "0        1    Where the Wild Things Are       Maurice Sendak  1963   4.25   \n",
       "1        2  The Very Hungry Caterpillar           Eric Carle  1969   4.34   \n",
       "2        3              The Giving Tree     Shel Silverstein  1964   4.38   \n",
       "3        4           Green Eggs and Ham            Dr. Seuss  1960   4.31   \n",
       "4        5               Goodnight Moon  Margaret Wise Brown  1947   4.31   \n",
       "\n",
       "                                                                                                                                                                                                                                                                                                                                                                                                                                              Description  \n",
       "0                 Where the Wild Things Are follows Max, a young boy who, after being sent to his room for misbehaving, imagines sailing to an island filled with wild creatures. As their king, Max tames the beasts and eventually returns home to find his supper waiting for him. This iconic book explores themes of imagination, adventure, and the complex emotions of childhood, all captured through Sendak's whimsical illustrations and story.  \n",
       "1                       The Very Hungry Caterpillar tells the story of a caterpillar who eats through a variety of foods before eventually becoming a butterfly. Eric Carle’s use of colorful collage illustrations and rhythmic text has made this book a beloved classic for young readers. The simple, engaging story introduces children to days of the week, counting, and the concept of metamorphosis. It’s a staple in early childhood education.  \n",
       "2  The Giving Tree is a touching and bittersweet story about a tree that gives everything it has to a boy over the course of his life. As the boy grows up, he takes more from the tree, and the tree continues to give, even when it has little left. Silverstein’s minimalist text and illustrations convey deep themes of unconditional love, selflessness, and the passage of time. It has sparked much discussion about relationships and sacrifice.  \n",
       "3                                 In Green Eggs and Ham, Sam-I-Am tries to convince a reluctant character to try a dish of green eggs and ham, despite his resistance. Through repetition and rhyme, Dr. Seuss’s classic story about being open to new experiences encourages children to be adventurous and try things outside their comfort zone. The playful illustrations and humorous dialogue make it a fun and educational read for young readers.  \n",
       "4                                                       Goodnight Moon is a gentle, rhythmic bedtime story where a little bunny says goodnight to everything in his room, from the moon to the \"quiet old lady whispering hush.\" Its repetitive structure and comforting tone make it ideal for young children. The simple illustrations by Clement Hurd complement the soothing nature of the story, making it a beloved classic for sleep-time reading.  "
      ]
     },
     "execution_count": 7,
     "metadata": {},
     "output_type": "execute_result"
    }
   ],
   "source": [
    "df.head()\n",
    "print(df.shape)\n",
    "df.head()"
   ]
  },
  {
   "cell_type": "code",
   "execution_count": 4,
   "id": "6f48c758-a8a4-409c-a494-bb3d4b064bad",
   "metadata": {},
   "outputs": [],
   "source": [
    "text_ner=pipeline(\"ner\",model=\"dslim/bert-base-NER\",\n",
    "                     device=-1,\n",
    "                     aggregation_strategy=\"SIMPLE\")"
   ]
  },
  {
   "cell_type": "code",
   "execution_count": 5,
   "id": "20ca93b8-734d-492a-a0a7-34adfa79917a",
   "metadata": {},
   "outputs": [
    {
     "data": {
      "text/plain": [
       "<transformers.pipelines.token_classification.TokenClassificationPipeline at 0x295d7be2380>"
      ]
     },
     "execution_count": 5,
     "metadata": {},
     "output_type": "execute_result"
    }
   ],
   "source": [
    "text_ner"
   ]
  },
  {
   "cell_type": "code",
   "execution_count": 9,
   "id": "a3e50421-f8d4-4f19-808d-15731c7901dc",
   "metadata": {},
   "outputs": [],
   "source": [
    "df['Named_entity']=df.Description.apply(lambda x: [entity['word'] for entity in text_ner(x)])"
   ]
  },
  {
   "cell_type": "code",
   "execution_count": 11,
   "id": "7f59c7f4-4610-4e02-a468-2a74d5a65f3c",
   "metadata": {},
   "outputs": [
    {
     "data": {
      "text/html": [
       "<div>\n",
       "<style scoped>\n",
       "    .dataframe tbody tr th:only-of-type {\n",
       "        vertical-align: middle;\n",
       "    }\n",
       "\n",
       "    .dataframe tbody tr th {\n",
       "        vertical-align: top;\n",
       "    }\n",
       "\n",
       "    .dataframe thead th {\n",
       "        text-align: right;\n",
       "    }\n",
       "</style>\n",
       "<table border=\"1\" class=\"dataframe\">\n",
       "  <thead>\n",
       "    <tr style=\"text-align: right;\">\n",
       "      <th></th>\n",
       "      <th>Ranking</th>\n",
       "      <th>Title</th>\n",
       "      <th>Author</th>\n",
       "      <th>Year</th>\n",
       "      <th>Rating</th>\n",
       "      <th>Description</th>\n",
       "      <th>Named_entity</th>\n",
       "    </tr>\n",
       "  </thead>\n",
       "  <tbody>\n",
       "    <tr>\n",
       "      <th>0</th>\n",
       "      <td>1</td>\n",
       "      <td>Where the Wild Things Are</td>\n",
       "      <td>Maurice Sendak</td>\n",
       "      <td>1963</td>\n",
       "      <td>4.25</td>\n",
       "      <td>Where the Wild Things Are follows Max, a young boy who, after being sent to his room for misbehaving, imagines sailing to an island filled with wild creatures. As their king, Max tames the beasts and eventually returns home to find his supper waiting for him. This iconic book explores themes of imagination, adventure, and the complex emotions of childhood, all captured through Sendak's whimsical illustrations and story.</td>\n",
       "      <td>[Where the Wild Things Are, Max, Max, Sendak]</td>\n",
       "    </tr>\n",
       "    <tr>\n",
       "      <th>1</th>\n",
       "      <td>2</td>\n",
       "      <td>The Very Hungry Caterpillar</td>\n",
       "      <td>Eric Carle</td>\n",
       "      <td>1969</td>\n",
       "      <td>4.34</td>\n",
       "      <td>The Very Hungry Caterpillar tells the story of a caterpillar who eats through a variety of foods before eventually becoming a butterfly. Eric Carle’s use of colorful collage illustrations and rhythmic text has made this book a beloved classic for young readers. The simple, engaging story introduces children to days of the week, counting, and the concept of metamorphosis. It’s a staple in early childhood education.</td>\n",
       "      <td>[Very, ##ry Caterpillar, Eric Carle]</td>\n",
       "    </tr>\n",
       "    <tr>\n",
       "      <th>2</th>\n",
       "      <td>3</td>\n",
       "      <td>The Giving Tree</td>\n",
       "      <td>Shel Silverstein</td>\n",
       "      <td>1964</td>\n",
       "      <td>4.38</td>\n",
       "      <td>The Giving Tree is a touching and bittersweet story about a tree that gives everything it has to a boy over the course of his life. As the boy grows up, he takes more from the tree, and the tree continues to give, even when it has little left. Silverstein’s minimalist text and illustrations convey deep themes of unconditional love, selflessness, and the passage of time. It has sparked much discussion about relationships and sacrifice.</td>\n",
       "      <td>[Tree, Silverstein]</td>\n",
       "    </tr>\n",
       "    <tr>\n",
       "      <th>3</th>\n",
       "      <td>4</td>\n",
       "      <td>Green Eggs and Ham</td>\n",
       "      <td>Dr. Seuss</td>\n",
       "      <td>1960</td>\n",
       "      <td>4.31</td>\n",
       "      <td>In Green Eggs and Ham, Sam-I-Am tries to convince a reluctant character to try a dish of green eggs and ham, despite his resistance. Through repetition and rhyme, Dr. Seuss’s classic story about being open to new experiences encourages children to be adventurous and try things outside their comfort zone. The playful illustrations and humorous dialogue make it a fun and educational read for young readers.</td>\n",
       "      <td>[Green Eggs and Ham, Sam - I - Am, Seuss]</td>\n",
       "    </tr>\n",
       "    <tr>\n",
       "      <th>4</th>\n",
       "      <td>5</td>\n",
       "      <td>Goodnight Moon</td>\n",
       "      <td>Margaret Wise Brown</td>\n",
       "      <td>1947</td>\n",
       "      <td>4.31</td>\n",
       "      <td>Goodnight Moon is a gentle, rhythmic bedtime story where a little bunny says goodnight to everything in his room, from the moon to the \"quiet old lady whispering hush.\" Its repetitive structure and comforting tone make it ideal for young children. The simple illustrations by Clement Hurd complement the soothing nature of the story, making it a beloved classic for sleep-time reading.</td>\n",
       "      <td>[Clement Hurd]</td>\n",
       "    </tr>\n",
       "  </tbody>\n",
       "</table>\n",
       "</div>"
      ],
      "text/plain": [
       "   Ranking                        Title               Author  Year Rating  \\\n",
       "0        1    Where the Wild Things Are       Maurice Sendak  1963   4.25   \n",
       "1        2  The Very Hungry Caterpillar           Eric Carle  1969   4.34   \n",
       "2        3              The Giving Tree     Shel Silverstein  1964   4.38   \n",
       "3        4           Green Eggs and Ham            Dr. Seuss  1960   4.31   \n",
       "4        5               Goodnight Moon  Margaret Wise Brown  1947   4.31   \n",
       "\n",
       "                                                                                                                                                                                                                                                                                                                                                                                                                                              Description  \\\n",
       "0                 Where the Wild Things Are follows Max, a young boy who, after being sent to his room for misbehaving, imagines sailing to an island filled with wild creatures. As their king, Max tames the beasts and eventually returns home to find his supper waiting for him. This iconic book explores themes of imagination, adventure, and the complex emotions of childhood, all captured through Sendak's whimsical illustrations and story.   \n",
       "1                       The Very Hungry Caterpillar tells the story of a caterpillar who eats through a variety of foods before eventually becoming a butterfly. Eric Carle’s use of colorful collage illustrations and rhythmic text has made this book a beloved classic for young readers. The simple, engaging story introduces children to days of the week, counting, and the concept of metamorphosis. It’s a staple in early childhood education.   \n",
       "2  The Giving Tree is a touching and bittersweet story about a tree that gives everything it has to a boy over the course of his life. As the boy grows up, he takes more from the tree, and the tree continues to give, even when it has little left. Silverstein’s minimalist text and illustrations convey deep themes of unconditional love, selflessness, and the passage of time. It has sparked much discussion about relationships and sacrifice.   \n",
       "3                                 In Green Eggs and Ham, Sam-I-Am tries to convince a reluctant character to try a dish of green eggs and ham, despite his resistance. Through repetition and rhyme, Dr. Seuss’s classic story about being open to new experiences encourages children to be adventurous and try things outside their comfort zone. The playful illustrations and humorous dialogue make it a fun and educational read for young readers.   \n",
       "4                                                       Goodnight Moon is a gentle, rhythmic bedtime story where a little bunny says goodnight to everything in his room, from the moon to the \"quiet old lady whispering hush.\" Its repetitive structure and comforting tone make it ideal for young children. The simple illustrations by Clement Hurd complement the soothing nature of the story, making it a beloved classic for sleep-time reading.   \n",
       "\n",
       "                                    Named_entity  \n",
       "0  [Where the Wild Things Are, Max, Max, Sendak]  \n",
       "1           [Very, ##ry Caterpillar, Eric Carle]  \n",
       "2                            [Tree, Silverstein]  \n",
       "3      [Green Eggs and Ham, Sam - I - Am, Seuss]  \n",
       "4                                 [Clement Hurd]  "
      ]
     },
     "execution_count": 11,
     "metadata": {},
     "output_type": "execute_result"
    }
   ],
   "source": [
    "df.head()"
   ]
  },
  {
   "cell_type": "code",
   "execution_count": 12,
   "id": "1286a275-99cc-4300-b55c-193a264e5fcc",
   "metadata": {},
   "outputs": [],
   "source": [
    "name_entities=list(set(df['Named_entity'].explode().dropna().tolist()))"
   ]
  },
  {
   "cell_type": "code",
   "execution_count": 13,
   "id": "d379c68d-dfb1-4378-9bfd-cde34b1fe3fe",
   "metadata": {},
   "outputs": [
    {
     "data": {
      "text/plain": [
       "['Sam - I - Am',\n",
       " '##ie',\n",
       " '##l Silverstein',\n",
       " '##bur',\n",
       " 'Seuss',\n",
       " '##il',\n",
       " 'White',\n",
       " 'You',\n",
       " 'She',\n",
       " 'Where the Wild Things Are',\n",
       " 'Very',\n",
       " 'Sendak',\n",
       " 'W',\n",
       " 'Green Eggs and Ham',\n",
       " 'Tree',\n",
       " '##ry Caterpillar',\n",
       " 'Clement Hurd',\n",
       " 'Charlotte ’ s Web',\n",
       " 'Thing 1',\n",
       " 'Cat',\n",
       " 'a Mouse',\n",
       " 'Charlotte',\n",
       " 'Cat in the Hat',\n",
       " 'Silverstein',\n",
       " 'Eric Carle',\n",
       " 'the Sidewalk End',\n",
       " 'Love You Forever',\n",
       " 'Max',\n",
       " 'in the Hat',\n",
       " 'Thing 2']"
      ]
     },
     "execution_count": 13,
     "metadata": {},
     "output_type": "execute_result"
    }
   ],
   "source": [
    "name_entities"
   ]
  },
  {
   "cell_type": "code",
   "execution_count": 14,
   "id": "5b050fce-6696-401e-9c20-c9e45bfb24c8",
   "metadata": {},
   "outputs": [
    {
     "data": {
      "text/plain": [
       "['Sam - I - Am',\n",
       " 'Seuss',\n",
       " 'White',\n",
       " 'You',\n",
       " 'She',\n",
       " 'Where the Wild Things Are',\n",
       " 'Very',\n",
       " 'Sendak',\n",
       " 'W',\n",
       " 'Green Eggs and Ham',\n",
       " 'Tree',\n",
       " 'Clement Hurd',\n",
       " 'Charlotte ’ s Web',\n",
       " 'Thing 1',\n",
       " 'Cat',\n",
       " 'a Mouse',\n",
       " 'Charlotte',\n",
       " 'Cat in the Hat',\n",
       " 'Silverstein',\n",
       " 'Eric Carle',\n",
       " 'the Sidewalk End',\n",
       " 'Love You Forever',\n",
       " 'Max',\n",
       " 'in the Hat',\n",
       " 'Thing 2']"
      ]
     },
     "execution_count": 14,
     "metadata": {},
     "output_type": "execute_result"
    }
   ],
   "source": [
    "[entity for entity in name_entities if  \"#\" not in entity]"
   ]
  },
  {
   "cell_type": "code",
   "execution_count": null,
   "id": "9e7413dd-77ca-4a33-bd87-34c451708b19",
   "metadata": {},
   "outputs": [],
   "source": []
  }
 ],
 "metadata": {
  "kernelspec": {
   "display_name": "Python 3 (ipykernel)",
   "language": "python",
   "name": "python3"
  },
  "language_info": {
   "codemirror_mode": {
    "name": "ipython",
    "version": 3
   },
   "file_extension": ".py",
   "mimetype": "text/x-python",
   "name": "python",
   "nbconvert_exporter": "python",
   "pygments_lexer": "ipython3",
   "version": "3.10.18"
  }
 },
 "nbformat": 4,
 "nbformat_minor": 5
}
